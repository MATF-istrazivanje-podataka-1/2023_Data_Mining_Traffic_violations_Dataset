{
 "cells": [
  {
   "cell_type": "code",
   "execution_count": 34,
   "id": "8e538eb0",
   "metadata": {
    "scrolled": false
   },
   "outputs": [],
   "source": [
    "import numpy as np\n",
    "import matplotlib.pyplot as plt\n",
    "import pandas as pd\n",
    "import seaborn as sns\n",
    "from joblib import load\n",
    "from termcolor import colored\n",
    "\n",
    "from sklearn.preprocessing import MinMaxScaler\n",
    "from sklearn.neighbors import KNeighborsClassifier \n",
    "from sklearn.ensemble import BaggingClassifier\n",
    "from sklearn.model_selection import GridSearchCV\n",
    "\n",
    "from sklearn.metrics import accuracy_score, recall_score, roc_curve\n",
    "from sklearn.metrics import classification_report\n",
    "from sklearn.metrics import confusion_matrix"
   ]
  },
  {
   "cell_type": "code",
   "execution_count": 36,
   "id": "39485928",
   "metadata": {},
   "outputs": [
    {
     "data": {
      "text/html": [
       "<div>\n",
       "<style scoped>\n",
       "    .dataframe tbody tr th:only-of-type {\n",
       "        vertical-align: middle;\n",
       "    }\n",
       "\n",
       "    .dataframe tbody tr th {\n",
       "        vertical-align: top;\n",
       "    }\n",
       "\n",
       "    .dataframe thead th {\n",
       "        text-align: right;\n",
       "    }\n",
       "</style>\n",
       "<table border=\"1\" class=\"dataframe\">\n",
       "  <thead>\n",
       "    <tr style=\"text-align: right;\">\n",
       "      <th></th>\n",
       "      <th>stop_time</th>\n",
       "      <th>driver_gender</th>\n",
       "      <th>driver_age</th>\n",
       "      <th>search_conducted</th>\n",
       "      <th>drugs_related_stop</th>\n",
       "      <th>stop_month</th>\n",
       "      <th>stop_day</th>\n",
       "      <th>Asian</th>\n",
       "      <th>Black</th>\n",
       "      <th>Hispanic</th>\n",
       "      <th>...</th>\n",
       "      <th>0-15 Min</th>\n",
       "      <th>16-30 Min</th>\n",
       "      <th>30+ Min</th>\n",
       "      <th>2005</th>\n",
       "      <th>2006</th>\n",
       "      <th>2007</th>\n",
       "      <th>2008</th>\n",
       "      <th>2009</th>\n",
       "      <th>2010</th>\n",
       "      <th>2011</th>\n",
       "    </tr>\n",
       "  </thead>\n",
       "  <tbody>\n",
       "    <tr>\n",
       "      <th>32160</th>\n",
       "      <td>22.533333</td>\n",
       "      <td>0</td>\n",
       "      <td>36.0</td>\n",
       "      <td>0</td>\n",
       "      <td>0</td>\n",
       "      <td>1</td>\n",
       "      <td>30</td>\n",
       "      <td>0</td>\n",
       "      <td>0</td>\n",
       "      <td>0</td>\n",
       "      <td>...</td>\n",
       "      <td>1</td>\n",
       "      <td>0</td>\n",
       "      <td>0</td>\n",
       "      <td>0</td>\n",
       "      <td>0</td>\n",
       "      <td>0</td>\n",
       "      <td>0</td>\n",
       "      <td>1</td>\n",
       "      <td>0</td>\n",
       "      <td>0</td>\n",
       "    </tr>\n",
       "    <tr>\n",
       "      <th>41236</th>\n",
       "      <td>12.000000</td>\n",
       "      <td>0</td>\n",
       "      <td>44.0</td>\n",
       "      <td>0</td>\n",
       "      <td>0</td>\n",
       "      <td>3</td>\n",
       "      <td>23</td>\n",
       "      <td>0</td>\n",
       "      <td>0</td>\n",
       "      <td>0</td>\n",
       "      <td>...</td>\n",
       "      <td>0</td>\n",
       "      <td>1</td>\n",
       "      <td>0</td>\n",
       "      <td>0</td>\n",
       "      <td>0</td>\n",
       "      <td>0</td>\n",
       "      <td>0</td>\n",
       "      <td>0</td>\n",
       "      <td>1</td>\n",
       "      <td>0</td>\n",
       "    </tr>\n",
       "    <tr>\n",
       "      <th>5057</th>\n",
       "      <td>14.050000</td>\n",
       "      <td>1</td>\n",
       "      <td>18.0</td>\n",
       "      <td>0</td>\n",
       "      <td>0</td>\n",
       "      <td>3</td>\n",
       "      <td>24</td>\n",
       "      <td>0</td>\n",
       "      <td>0</td>\n",
       "      <td>0</td>\n",
       "      <td>...</td>\n",
       "      <td>1</td>\n",
       "      <td>0</td>\n",
       "      <td>0</td>\n",
       "      <td>0</td>\n",
       "      <td>1</td>\n",
       "      <td>0</td>\n",
       "      <td>0</td>\n",
       "      <td>0</td>\n",
       "      <td>0</td>\n",
       "      <td>0</td>\n",
       "    </tr>\n",
       "    <tr>\n",
       "      <th>3559</th>\n",
       "      <td>18.166667</td>\n",
       "      <td>0</td>\n",
       "      <td>51.0</td>\n",
       "      <td>0</td>\n",
       "      <td>0</td>\n",
       "      <td>1</td>\n",
       "      <td>30</td>\n",
       "      <td>0</td>\n",
       "      <td>0</td>\n",
       "      <td>0</td>\n",
       "      <td>...</td>\n",
       "      <td>1</td>\n",
       "      <td>0</td>\n",
       "      <td>0</td>\n",
       "      <td>0</td>\n",
       "      <td>1</td>\n",
       "      <td>0</td>\n",
       "      <td>0</td>\n",
       "      <td>0</td>\n",
       "      <td>0</td>\n",
       "      <td>0</td>\n",
       "    </tr>\n",
       "    <tr>\n",
       "      <th>29005</th>\n",
       "      <td>6.766667</td>\n",
       "      <td>1</td>\n",
       "      <td>16.0</td>\n",
       "      <td>0</td>\n",
       "      <td>0</td>\n",
       "      <td>9</td>\n",
       "      <td>16</td>\n",
       "      <td>0</td>\n",
       "      <td>0</td>\n",
       "      <td>0</td>\n",
       "      <td>...</td>\n",
       "      <td>1</td>\n",
       "      <td>0</td>\n",
       "      <td>0</td>\n",
       "      <td>0</td>\n",
       "      <td>0</td>\n",
       "      <td>0</td>\n",
       "      <td>1</td>\n",
       "      <td>0</td>\n",
       "      <td>0</td>\n",
       "      <td>0</td>\n",
       "    </tr>\n",
       "  </tbody>\n",
       "</table>\n",
       "<p>5 rows × 33 columns</p>\n",
       "</div>"
      ],
      "text/plain": [
       "       stop_time  driver_gender  driver_age  search_conducted  \\\n",
       "32160  22.533333              0        36.0                 0   \n",
       "41236  12.000000              0        44.0                 0   \n",
       "5057   14.050000              1        18.0                 0   \n",
       "3559   18.166667              0        51.0                 0   \n",
       "29005   6.766667              1        16.0                 0   \n",
       "\n",
       "       drugs_related_stop  stop_month  stop_day  Asian  Black  Hispanic  ...  \\\n",
       "32160                   0           1        30      0      0         0  ...   \n",
       "41236                   0           3        23      0      0         0  ...   \n",
       "5057                    0           3        24      0      0         0  ...   \n",
       "3559                    0           1        30      0      0         0  ...   \n",
       "29005                   0           9        16      0      0         0  ...   \n",
       "\n",
       "       0-15 Min  16-30 Min  30+ Min  2005  2006  2007  2008  2009  2010  2011  \n",
       "32160         1          0        0     0     0     0     0     1     0     0  \n",
       "41236         0          1        0     0     0     0     0     0     1     0  \n",
       "5057          1          0        0     0     1     0     0     0     0     0  \n",
       "3559          1          0        0     0     1     0     0     0     0     0  \n",
       "29005         1          0        0     0     0     0     1     0     0     0  \n",
       "\n",
       "[5 rows x 33 columns]"
      ]
     },
     "execution_count": 36,
     "metadata": {},
     "output_type": "execute_result"
    }
   ],
   "source": [
    "X_train, X_test, Y_train, Y_test = load('../../preprocessing/classification_dataset.joblib')\n",
    "X_train.head()"
   ]
  },
  {
   "cell_type": "code",
   "execution_count": null,
   "id": "71677f4e",
   "metadata": {},
   "outputs": [],
   "source": []
  },
  {
   "cell_type": "code",
   "execution_count": 37,
   "id": "df9b1c1c",
   "metadata": {},
   "outputs": [
    {
     "name": "stdout",
     "output_type": "stream",
     "text": [
      "<class 'pandas.core.frame.DataFrame'>\n",
      "Int64Index: 39664 entries, 32160 to 47684\n",
      "Data columns (total 33 columns):\n",
      " #   Column                            Non-Null Count  Dtype  \n",
      "---  ------                            --------------  -----  \n",
      " 0   stop_time                         39664 non-null  float64\n",
      " 1   driver_gender                     39664 non-null  int64  \n",
      " 2   driver_age                        39664 non-null  float64\n",
      " 3   search_conducted                  39664 non-null  int64  \n",
      " 4   drugs_related_stop                39664 non-null  int64  \n",
      " 5   stop_month                        39664 non-null  int64  \n",
      " 6   stop_day                          39664 non-null  int64  \n",
      " 7   Asian                             39664 non-null  uint8  \n",
      " 8   Black                             39664 non-null  uint8  \n",
      " 9   Hispanic                          39664 non-null  uint8  \n",
      " 10  Other                             39664 non-null  uint8  \n",
      " 11  White                             39664 non-null  uint8  \n",
      " 12  APB                               39664 non-null  uint8  \n",
      " 13  Call for Service                  39664 non-null  uint8  \n",
      " 14  Equipment/Inspection Violation    39664 non-null  uint8  \n",
      " 15  Motorist Assist/Courtesy          39664 non-null  uint8  \n",
      " 16  Other Traffic Violation           39664 non-null  uint8  \n",
      " 17  Registration Violation            39664 non-null  uint8  \n",
      " 18  Special Detail/Directed Patrol    39664 non-null  uint8  \n",
      " 19  Speeding                          39664 non-null  uint8  \n",
      " 20  Suspicious Person                 39664 non-null  uint8  \n",
      " 21  Violation of City/Town Ordinance  39664 non-null  uint8  \n",
      " 22  Warrant                           39664 non-null  uint8  \n",
      " 23  0-15 Min                          39664 non-null  uint8  \n",
      " 24  16-30 Min                         39664 non-null  uint8  \n",
      " 25  30+ Min                           39664 non-null  uint8  \n",
      " 26  2005                              39664 non-null  uint8  \n",
      " 27  2006                              39664 non-null  uint8  \n",
      " 28  2007                              39664 non-null  uint8  \n",
      " 29  2008                              39664 non-null  uint8  \n",
      " 30  2009                              39664 non-null  uint8  \n",
      " 31  2010                              39664 non-null  uint8  \n",
      " 32  2011                              39664 non-null  uint8  \n",
      "dtypes: float64(2), int64(5), uint8(26)\n",
      "memory usage: 3.4 MB\n"
     ]
    }
   ],
   "source": [
    "X_train.info()"
   ]
  },
  {
   "cell_type": "markdown",
   "id": "e5d19f62",
   "metadata": {},
   "source": [
    "# Normalizacija"
   ]
  },
  {
   "cell_type": "markdown",
   "id": "6bbad50e",
   "metadata": {},
   "source": [
    "Za normalizaciju ćemo iskoristiti MinMaxScaler Vrednosti min i max ćemo odrediti na osnovu trening skupa, a zatim primeniti transformaciju na test i trening skup."
   ]
  },
  {
   "cell_type": "code",
   "execution_count": 38,
   "id": "01a1a901",
   "metadata": {},
   "outputs": [],
   "source": [
    "scaler = MinMaxScaler()\n",
    "scaler.fit(X_train)\n",
    "X_train = scaler.transform(X_train)\n",
    "X_test = scaler.transform(X_test)"
   ]
  },
  {
   "cell_type": "code",
   "execution_count": 39,
   "id": "80bfa43c",
   "metadata": {},
   "outputs": [],
   "source": [
    "def report(model, x, y, text = \"training\"):\n",
    "    y_pred = model.predict(x)\n",
    "    \n",
    "    print(colored(\"Classification report for model {} on {} data\".format(type(model).__name__, text), \"green\"))\n",
    "    print(\"---------------------------------------------------------------------------------\")\n",
    "    print(classification_report(y, y_pred, zero_division=True))\n",
    "    print(\"---------------------------------------------------------------------------------\")\n",
    "    \n",
    "    print(colored(\"Confusion matrix for model {} on {} data \".format(type(model).__name__, text), \"green\"))\n",
    "    print(\"---------------------------------------------------------------------------------\")\n",
    "    print(pd.DataFrame(confusion_matrix(y, y_pred), columns=['Nije uhapšen', 'Uhapšen'], index=['0', '1']))\n",
    "    print(\"---------------------------------------------------------------------------------\")"
   ]
  },
  {
   "cell_type": "markdown",
   "id": "ca870246",
   "metadata": {},
   "source": [
    "## KNN"
   ]
  },
  {
   "cell_type": "code",
   "execution_count": 40,
   "id": "d5a3200f",
   "metadata": {},
   "outputs": [],
   "source": [
    "knn = KNeighborsClassifier()"
   ]
  },
  {
   "cell_type": "code",
   "execution_count": 41,
   "id": "d81c9161",
   "metadata": {},
   "outputs": [
    {
     "data": {
      "text/html": [
       "<style>#sk-container-id-4 {color: black;background-color: white;}#sk-container-id-4 pre{padding: 0;}#sk-container-id-4 div.sk-toggleable {background-color: white;}#sk-container-id-4 label.sk-toggleable__label {cursor: pointer;display: block;width: 100%;margin-bottom: 0;padding: 0.3em;box-sizing: border-box;text-align: center;}#sk-container-id-4 label.sk-toggleable__label-arrow:before {content: \"▸\";float: left;margin-right: 0.25em;color: #696969;}#sk-container-id-4 label.sk-toggleable__label-arrow:hover:before {color: black;}#sk-container-id-4 div.sk-estimator:hover label.sk-toggleable__label-arrow:before {color: black;}#sk-container-id-4 div.sk-toggleable__content {max-height: 0;max-width: 0;overflow: hidden;text-align: left;background-color: #f0f8ff;}#sk-container-id-4 div.sk-toggleable__content pre {margin: 0.2em;color: black;border-radius: 0.25em;background-color: #f0f8ff;}#sk-container-id-4 input.sk-toggleable__control:checked~div.sk-toggleable__content {max-height: 200px;max-width: 100%;overflow: auto;}#sk-container-id-4 input.sk-toggleable__control:checked~label.sk-toggleable__label-arrow:before {content: \"▾\";}#sk-container-id-4 div.sk-estimator input.sk-toggleable__control:checked~label.sk-toggleable__label {background-color: #d4ebff;}#sk-container-id-4 div.sk-label input.sk-toggleable__control:checked~label.sk-toggleable__label {background-color: #d4ebff;}#sk-container-id-4 input.sk-hidden--visually {border: 0;clip: rect(1px 1px 1px 1px);clip: rect(1px, 1px, 1px, 1px);height: 1px;margin: -1px;overflow: hidden;padding: 0;position: absolute;width: 1px;}#sk-container-id-4 div.sk-estimator {font-family: monospace;background-color: #f0f8ff;border: 1px dotted black;border-radius: 0.25em;box-sizing: border-box;margin-bottom: 0.5em;}#sk-container-id-4 div.sk-estimator:hover {background-color: #d4ebff;}#sk-container-id-4 div.sk-parallel-item::after {content: \"\";width: 100%;border-bottom: 1px solid gray;flex-grow: 1;}#sk-container-id-4 div.sk-label:hover label.sk-toggleable__label {background-color: #d4ebff;}#sk-container-id-4 div.sk-serial::before {content: \"\";position: absolute;border-left: 1px solid gray;box-sizing: border-box;top: 0;bottom: 0;left: 50%;z-index: 0;}#sk-container-id-4 div.sk-serial {display: flex;flex-direction: column;align-items: center;background-color: white;padding-right: 0.2em;padding-left: 0.2em;position: relative;}#sk-container-id-4 div.sk-item {position: relative;z-index: 1;}#sk-container-id-4 div.sk-parallel {display: flex;align-items: stretch;justify-content: center;background-color: white;position: relative;}#sk-container-id-4 div.sk-item::before, #sk-container-id-4 div.sk-parallel-item::before {content: \"\";position: absolute;border-left: 1px solid gray;box-sizing: border-box;top: 0;bottom: 0;left: 50%;z-index: -1;}#sk-container-id-4 div.sk-parallel-item {display: flex;flex-direction: column;z-index: 1;position: relative;background-color: white;}#sk-container-id-4 div.sk-parallel-item:first-child::after {align-self: flex-end;width: 50%;}#sk-container-id-4 div.sk-parallel-item:last-child::after {align-self: flex-start;width: 50%;}#sk-container-id-4 div.sk-parallel-item:only-child::after {width: 0;}#sk-container-id-4 div.sk-dashed-wrapped {border: 1px dashed gray;margin: 0 0.4em 0.5em 0.4em;box-sizing: border-box;padding-bottom: 0.4em;background-color: white;}#sk-container-id-4 div.sk-label label {font-family: monospace;font-weight: bold;display: inline-block;line-height: 1.2em;}#sk-container-id-4 div.sk-label-container {text-align: center;}#sk-container-id-4 div.sk-container {/* jupyter's `normalize.less` sets `[hidden] { display: none; }` but bootstrap.min.css set `[hidden] { display: none !important; }` so we also need the `!important` here to be able to override the default hidden behavior on the sphinx rendered scikit-learn.org. See: https://github.com/scikit-learn/scikit-learn/issues/21755 */display: inline-block !important;position: relative;}#sk-container-id-4 div.sk-text-repr-fallback {display: none;}</style><div id=\"sk-container-id-4\" class=\"sk-top-container\"><div class=\"sk-text-repr-fallback\"><pre>KNeighborsClassifier()</pre><b>In a Jupyter environment, please rerun this cell to show the HTML representation or trust the notebook. <br />On GitHub, the HTML representation is unable to render, please try loading this page with nbviewer.org.</b></div><div class=\"sk-container\" hidden><div class=\"sk-item\"><div class=\"sk-estimator sk-toggleable\"><input class=\"sk-toggleable__control sk-hidden--visually\" id=\"sk-estimator-id-4\" type=\"checkbox\" checked><label for=\"sk-estimator-id-4\" class=\"sk-toggleable__label sk-toggleable__label-arrow\">KNeighborsClassifier</label><div class=\"sk-toggleable__content\"><pre>KNeighborsClassifier()</pre></div></div></div></div></div>"
      ],
      "text/plain": [
       "KNeighborsClassifier()"
      ]
     },
     "execution_count": 41,
     "metadata": {},
     "output_type": "execute_result"
    }
   ],
   "source": [
    "knn.fit(X_train, Y_train)"
   ]
  },
  {
   "cell_type": "code",
   "execution_count": 42,
   "id": "84f97b39",
   "metadata": {},
   "outputs": [
    {
     "name": "stdout",
     "output_type": "stream",
     "text": [
      "\u001b[32mClassification report for model KNeighborsClassifier on training data\u001b[0m\n",
      "---------------------------------------------------------------------------------\n",
      "              precision    recall  f1-score   support\n",
      "\n",
      "           0       0.97      1.00      0.98     38169\n",
      "           1       0.73      0.33      0.46      1495\n",
      "\n",
      "    accuracy                           0.97     39664\n",
      "   macro avg       0.85      0.66      0.72     39664\n",
      "weighted avg       0.97      0.97      0.96     39664\n",
      "\n",
      "---------------------------------------------------------------------------------\n",
      "\u001b[32mConfusion matrix for model KNeighborsClassifier on training data \u001b[0m\n",
      "---------------------------------------------------------------------------------\n",
      "   Nije uhapšen  Uhapšen\n",
      "0         37989      180\n",
      "1           999      496\n",
      "---------------------------------------------------------------------------------\n"
     ]
    }
   ],
   "source": [
    "report(knn, X_train, Y_train)"
   ]
  },
  {
   "cell_type": "code",
   "execution_count": 43,
   "id": "7deaccf0",
   "metadata": {},
   "outputs": [
    {
     "name": "stdout",
     "output_type": "stream",
     "text": [
      "\u001b[32mClassification report for model KNeighborsClassifier on test data\u001b[0m\n",
      "---------------------------------------------------------------------------------\n",
      "              precision    recall  f1-score   support\n",
      "\n",
      "           0       0.97      0.99      0.98      9542\n",
      "           1       0.52      0.22      0.31       374\n",
      "\n",
      "    accuracy                           0.96      9916\n",
      "   macro avg       0.74      0.61      0.65      9916\n",
      "weighted avg       0.95      0.96      0.96      9916\n",
      "\n",
      "---------------------------------------------------------------------------------\n",
      "\u001b[32mConfusion matrix for model KNeighborsClassifier on test data \u001b[0m\n",
      "---------------------------------------------------------------------------------\n",
      "   Nije uhapšen  Uhapšen\n",
      "0          9465       77\n",
      "1           291       83\n",
      "---------------------------------------------------------------------------------\n"
     ]
    }
   ],
   "source": [
    "report(knn, X_test, Y_test, \"test\")"
   ]
  },
  {
   "cell_type": "markdown",
   "id": "2942415d",
   "metadata": {},
   "source": [
    "Probaćemo da unapredimo model podešavanjem hiper-parametara."
   ]
  },
  {
   "cell_type": "markdown",
   "id": "45308098",
   "metadata": {},
   "source": [
    "# Podešavanje hiper-parametara"
   ]
  },
  {
   "cell_type": "markdown",
   "id": "43daf782",
   "metadata": {},
   "source": [
    "## Grid Search CV"
   ]
  },
  {
   "cell_type": "markdown",
   "id": "7387f8e9",
   "metadata": {},
   "source": [
    "U mapi čuvamo informaciju o imenima i vrednostima parametara koje želimo da ispitamo."
   ]
  },
  {
   "cell_type": "code",
   "execution_count": 44,
   "id": "e9436926",
   "metadata": {},
   "outputs": [],
   "source": [
    "params = {'criterion': ['gini', 'entropy'],\n",
    "          'max_depth': [2, 4, 6, 8]\n",
    "         }\n",
    "params_grid = {'n_neighbors': range(10, 50, 5),\n",
    "               'weights': ['uniform', 'distance'],\n",
    "                'p': [1, 2]}\n",
    "\n",
    "estimator = GridSearchCV(KNeighborsClassifier(), params_grid, cv=6, verbose=4)"
   ]
  },
  {
   "cell_type": "code",
   "execution_count": 45,
   "id": "c6d8dd1a",
   "metadata": {},
   "outputs": [
    {
     "name": "stdout",
     "output_type": "stream",
     "text": [
      "Fitting 6 folds for each of 32 candidates, totalling 192 fits\n",
      "[CV 1/6] END n_neighbors=10, p=1, weights=uniform;, score=0.964 total time=   1.3s\n",
      "[CV 2/6] END n_neighbors=10, p=1, weights=uniform;, score=0.965 total time=   1.4s\n",
      "[CV 3/6] END n_neighbors=10, p=1, weights=uniform;, score=0.964 total time=   1.3s\n",
      "[CV 4/6] END n_neighbors=10, p=1, weights=uniform;, score=0.966 total time=   1.3s\n",
      "[CV 5/6] END n_neighbors=10, p=1, weights=uniform;, score=0.962 total time=   1.3s\n",
      "[CV 6/6] END n_neighbors=10, p=1, weights=uniform;, score=0.963 total time=   1.2s\n",
      "[CV 1/6] END n_neighbors=10, p=1, weights=distance;, score=0.965 total time=   1.1s\n",
      "[CV 2/6] END n_neighbors=10, p=1, weights=distance;, score=0.964 total time=   1.1s\n",
      "[CV 3/6] END n_neighbors=10, p=1, weights=distance;, score=0.965 total time=   1.1s\n",
      "[CV 4/6] END n_neighbors=10, p=1, weights=distance;, score=0.966 total time=   1.1s\n",
      "[CV 5/6] END n_neighbors=10, p=1, weights=distance;, score=0.962 total time=   1.1s\n",
      "[CV 6/6] END n_neighbors=10, p=1, weights=distance;, score=0.963 total time=   1.1s\n",
      "[CV 1/6] END n_neighbors=10, p=2, weights=uniform;, score=0.965 total time=   0.3s\n",
      "[CV 2/6] END n_neighbors=10, p=2, weights=uniform;, score=0.965 total time=   0.3s\n",
      "[CV 3/6] END n_neighbors=10, p=2, weights=uniform;, score=0.964 total time=   0.3s\n",
      "[CV 4/6] END n_neighbors=10, p=2, weights=uniform;, score=0.966 total time=   0.3s\n",
      "[CV 5/6] END n_neighbors=10, p=2, weights=uniform;, score=0.964 total time=   0.3s\n",
      "[CV 6/6] END n_neighbors=10, p=2, weights=uniform;, score=0.964 total time=   0.3s\n",
      "[CV 1/6] END n_neighbors=10, p=2, weights=distance;, score=0.964 total time=   0.2s\n",
      "[CV 2/6] END n_neighbors=10, p=2, weights=distance;, score=0.964 total time=   0.2s\n",
      "[CV 3/6] END n_neighbors=10, p=2, weights=distance;, score=0.965 total time=   0.2s\n",
      "[CV 4/6] END n_neighbors=10, p=2, weights=distance;, score=0.966 total time=   0.2s\n",
      "[CV 5/6] END n_neighbors=10, p=2, weights=distance;, score=0.962 total time=   0.2s\n",
      "[CV 6/6] END n_neighbors=10, p=2, weights=distance;, score=0.963 total time=   0.2s\n",
      "[CV 1/6] END n_neighbors=15, p=1, weights=uniform;, score=0.965 total time=   1.2s\n",
      "[CV 2/6] END n_neighbors=15, p=1, weights=uniform;, score=0.965 total time=   1.2s\n",
      "[CV 3/6] END n_neighbors=15, p=1, weights=uniform;, score=0.966 total time=   1.2s\n",
      "[CV 4/6] END n_neighbors=15, p=1, weights=uniform;, score=0.966 total time=   1.3s\n",
      "[CV 5/6] END n_neighbors=15, p=1, weights=uniform;, score=0.963 total time=   1.2s\n",
      "[CV 6/6] END n_neighbors=15, p=1, weights=uniform;, score=0.964 total time=   1.2s\n",
      "[CV 1/6] END n_neighbors=15, p=1, weights=distance;, score=0.964 total time=   1.1s\n",
      "[CV 2/6] END n_neighbors=15, p=1, weights=distance;, score=0.965 total time=   1.1s\n",
      "[CV 3/6] END n_neighbors=15, p=1, weights=distance;, score=0.965 total time=   1.1s\n",
      "[CV 4/6] END n_neighbors=15, p=1, weights=distance;, score=0.966 total time=   1.1s\n",
      "[CV 5/6] END n_neighbors=15, p=1, weights=distance;, score=0.964 total time=   1.1s\n",
      "[CV 6/6] END n_neighbors=15, p=1, weights=distance;, score=0.963 total time=   1.1s\n",
      "[CV 1/6] END n_neighbors=15, p=2, weights=uniform;, score=0.964 total time=   0.4s\n",
      "[CV 2/6] END n_neighbors=15, p=2, weights=uniform;, score=0.965 total time=   0.3s\n",
      "[CV 3/6] END n_neighbors=15, p=2, weights=uniform;, score=0.964 total time=   0.3s\n",
      "[CV 4/6] END n_neighbors=15, p=2, weights=uniform;, score=0.966 total time=   0.3s\n",
      "[CV 5/6] END n_neighbors=15, p=2, weights=uniform;, score=0.963 total time=   0.3s\n",
      "[CV 6/6] END n_neighbors=15, p=2, weights=uniform;, score=0.964 total time=   0.3s\n",
      "[CV 1/6] END n_neighbors=15, p=2, weights=distance;, score=0.965 total time=   0.2s\n",
      "[CV 2/6] END n_neighbors=15, p=2, weights=distance;, score=0.965 total time=   0.2s\n",
      "[CV 3/6] END n_neighbors=15, p=2, weights=distance;, score=0.965 total time=   0.2s\n",
      "[CV 4/6] END n_neighbors=15, p=2, weights=distance;, score=0.966 total time=   0.2s\n",
      "[CV 5/6] END n_neighbors=15, p=2, weights=distance;, score=0.964 total time=   0.2s\n",
      "[CV 6/6] END n_neighbors=15, p=2, weights=distance;, score=0.963 total time=   0.2s\n",
      "[CV 1/6] END n_neighbors=20, p=1, weights=uniform;, score=0.964 total time=   1.3s\n",
      "[CV 2/6] END n_neighbors=20, p=1, weights=uniform;, score=0.965 total time=   1.2s\n",
      "[CV 3/6] END n_neighbors=20, p=1, weights=uniform;, score=0.965 total time=   1.2s\n",
      "[CV 4/6] END n_neighbors=20, p=1, weights=uniform;, score=0.965 total time=   1.3s\n",
      "[CV 5/6] END n_neighbors=20, p=1, weights=uniform;, score=0.964 total time=   1.2s\n",
      "[CV 6/6] END n_neighbors=20, p=1, weights=uniform;, score=0.962 total time=   1.2s\n",
      "[CV 1/6] END n_neighbors=20, p=1, weights=distance;, score=0.965 total time=   1.1s\n",
      "[CV 2/6] END n_neighbors=20, p=1, weights=distance;, score=0.965 total time=   1.2s\n",
      "[CV 3/6] END n_neighbors=20, p=1, weights=distance;, score=0.965 total time=   1.1s\n",
      "[CV 4/6] END n_neighbors=20, p=1, weights=distance;, score=0.966 total time=   1.1s\n",
      "[CV 5/6] END n_neighbors=20, p=1, weights=distance;, score=0.964 total time=   1.1s\n",
      "[CV 6/6] END n_neighbors=20, p=1, weights=distance;, score=0.963 total time=   1.1s\n",
      "[CV 1/6] END n_neighbors=20, p=2, weights=uniform;, score=0.964 total time=   0.5s\n",
      "[CV 2/6] END n_neighbors=20, p=2, weights=uniform;, score=0.965 total time=   0.4s\n",
      "[CV 3/6] END n_neighbors=20, p=2, weights=uniform;, score=0.965 total time=   0.4s\n",
      "[CV 4/6] END n_neighbors=20, p=2, weights=uniform;, score=0.966 total time=   0.4s\n",
      "[CV 5/6] END n_neighbors=20, p=2, weights=uniform;, score=0.964 total time=   0.4s\n",
      "[CV 6/6] END n_neighbors=20, p=2, weights=uniform;, score=0.963 total time=   0.4s\n",
      "[CV 1/6] END n_neighbors=20, p=2, weights=distance;, score=0.965 total time=   0.2s\n",
      "[CV 2/6] END n_neighbors=20, p=2, weights=distance;, score=0.965 total time=   0.2s\n",
      "[CV 3/6] END n_neighbors=20, p=2, weights=distance;, score=0.965 total time=   0.2s\n",
      "[CV 4/6] END n_neighbors=20, p=2, weights=distance;, score=0.966 total time=   0.2s\n",
      "[CV 5/6] END n_neighbors=20, p=2, weights=distance;, score=0.964 total time=   0.2s\n",
      "[CV 6/6] END n_neighbors=20, p=2, weights=distance;, score=0.964 total time=   0.2s\n",
      "[CV 1/6] END n_neighbors=25, p=1, weights=uniform;, score=0.964 total time=   1.3s\n",
      "[CV 2/6] END n_neighbors=25, p=1, weights=uniform;, score=0.965 total time=   1.2s\n",
      "[CV 3/6] END n_neighbors=25, p=1, weights=uniform;, score=0.964 total time=   1.3s\n",
      "[CV 4/6] END n_neighbors=25, p=1, weights=uniform;, score=0.966 total time=   1.3s\n",
      "[CV 5/6] END n_neighbors=25, p=1, weights=uniform;, score=0.964 total time=   1.3s\n",
      "[CV 6/6] END n_neighbors=25, p=1, weights=uniform;, score=0.963 total time=   1.2s\n",
      "[CV 1/6] END n_neighbors=25, p=1, weights=distance;, score=0.965 total time=   1.1s\n",
      "[CV 2/6] END n_neighbors=25, p=1, weights=distance;, score=0.965 total time=   1.1s\n",
      "[CV 3/6] END n_neighbors=25, p=1, weights=distance;, score=0.965 total time=   1.1s\n",
      "[CV 4/6] END n_neighbors=25, p=1, weights=distance;, score=0.965 total time=   1.1s\n",
      "[CV 5/6] END n_neighbors=25, p=1, weights=distance;, score=0.964 total time=   1.1s\n",
      "[CV 6/6] END n_neighbors=25, p=1, weights=distance;, score=0.963 total time=   1.1s\n",
      "[CV 1/6] END n_neighbors=25, p=2, weights=uniform;, score=0.965 total time=   0.4s\n",
      "[CV 2/6] END n_neighbors=25, p=2, weights=uniform;, score=0.965 total time=   0.4s\n",
      "[CV 3/6] END n_neighbors=25, p=2, weights=uniform;, score=0.965 total time=   0.4s\n",
      "[CV 4/6] END n_neighbors=25, p=2, weights=uniform;, score=0.966 total time=   0.4s\n",
      "[CV 5/6] END n_neighbors=25, p=2, weights=uniform;, score=0.963 total time=   0.4s\n",
      "[CV 6/6] END n_neighbors=25, p=2, weights=uniform;, score=0.964 total time=   0.4s\n",
      "[CV 1/6] END n_neighbors=25, p=2, weights=distance;, score=0.964 total time=   0.2s\n",
      "[CV 2/6] END n_neighbors=25, p=2, weights=distance;, score=0.965 total time=   0.2s\n",
      "[CV 3/6] END n_neighbors=25, p=2, weights=distance;, score=0.965 total time=   0.2s\n",
      "[CV 4/6] END n_neighbors=25, p=2, weights=distance;, score=0.966 total time=   0.2s\n",
      "[CV 5/6] END n_neighbors=25, p=2, weights=distance;, score=0.964 total time=   0.2s\n",
      "[CV 6/6] END n_neighbors=25, p=2, weights=distance;, score=0.964 total time=   0.2s\n",
      "[CV 1/6] END n_neighbors=30, p=1, weights=uniform;, score=0.964 total time=   1.3s\n",
      "[CV 2/6] END n_neighbors=30, p=1, weights=uniform;, score=0.964 total time=   1.3s\n"
     ]
    },
    {
     "name": "stdout",
     "output_type": "stream",
     "text": [
      "[CV 3/6] END n_neighbors=30, p=1, weights=uniform;, score=0.964 total time=   1.3s\n",
      "[CV 4/6] END n_neighbors=30, p=1, weights=uniform;, score=0.965 total time=   1.3s\n",
      "[CV 5/6] END n_neighbors=30, p=1, weights=uniform;, score=0.963 total time=   1.3s\n",
      "[CV 6/6] END n_neighbors=30, p=1, weights=uniform;, score=0.963 total time=   1.5s\n",
      "[CV 1/6] END n_neighbors=30, p=1, weights=distance;, score=0.965 total time=   1.2s\n",
      "[CV 2/6] END n_neighbors=30, p=1, weights=distance;, score=0.965 total time=   1.1s\n",
      "[CV 3/6] END n_neighbors=30, p=1, weights=distance;, score=0.965 total time=   1.3s\n",
      "[CV 4/6] END n_neighbors=30, p=1, weights=distance;, score=0.966 total time=   1.2s\n",
      "[CV 5/6] END n_neighbors=30, p=1, weights=distance;, score=0.964 total time=   1.2s\n",
      "[CV 6/6] END n_neighbors=30, p=1, weights=distance;, score=0.963 total time=   1.2s\n",
      "[CV 1/6] END n_neighbors=30, p=2, weights=uniform;, score=0.965 total time=   0.4s\n",
      "[CV 2/6] END n_neighbors=30, p=2, weights=uniform;, score=0.965 total time=   0.4s\n",
      "[CV 3/6] END n_neighbors=30, p=2, weights=uniform;, score=0.965 total time=   0.4s\n",
      "[CV 4/6] END n_neighbors=30, p=2, weights=uniform;, score=0.965 total time=   0.4s\n",
      "[CV 5/6] END n_neighbors=30, p=2, weights=uniform;, score=0.963 total time=   0.4s\n",
      "[CV 6/6] END n_neighbors=30, p=2, weights=uniform;, score=0.962 total time=   0.4s\n",
      "[CV 1/6] END n_neighbors=30, p=2, weights=distance;, score=0.965 total time=   0.2s\n",
      "[CV 2/6] END n_neighbors=30, p=2, weights=distance;, score=0.965 total time=   0.2s\n",
      "[CV 3/6] END n_neighbors=30, p=2, weights=distance;, score=0.965 total time=   0.2s\n",
      "[CV 4/6] END n_neighbors=30, p=2, weights=distance;, score=0.966 total time=   0.2s\n",
      "[CV 5/6] END n_neighbors=30, p=2, weights=distance;, score=0.963 total time=   0.2s\n",
      "[CV 6/6] END n_neighbors=30, p=2, weights=distance;, score=0.963 total time=   0.2s\n",
      "[CV 1/6] END n_neighbors=35, p=1, weights=uniform;, score=0.964 total time=   1.3s\n",
      "[CV 2/6] END n_neighbors=35, p=1, weights=uniform;, score=0.964 total time=   1.3s\n",
      "[CV 3/6] END n_neighbors=35, p=1, weights=uniform;, score=0.965 total time=   1.3s\n",
      "[CV 4/6] END n_neighbors=35, p=1, weights=uniform;, score=0.965 total time=   1.3s\n",
      "[CV 5/6] END n_neighbors=35, p=1, weights=uniform;, score=0.963 total time=   1.3s\n",
      "[CV 6/6] END n_neighbors=35, p=1, weights=uniform;, score=0.963 total time=   1.3s\n",
      "[CV 1/6] END n_neighbors=35, p=1, weights=distance;, score=0.965 total time=   1.1s\n",
      "[CV 2/6] END n_neighbors=35, p=1, weights=distance;, score=0.965 total time=   1.1s\n",
      "[CV 3/6] END n_neighbors=35, p=1, weights=distance;, score=0.965 total time=   1.1s\n",
      "[CV 4/6] END n_neighbors=35, p=1, weights=distance;, score=0.966 total time=   1.1s\n",
      "[CV 5/6] END n_neighbors=35, p=1, weights=distance;, score=0.964 total time=   1.2s\n",
      "[CV 6/6] END n_neighbors=35, p=1, weights=distance;, score=0.963 total time=   1.1s\n",
      "[CV 1/6] END n_neighbors=35, p=2, weights=uniform;, score=0.964 total time=   0.4s\n",
      "[CV 2/6] END n_neighbors=35, p=2, weights=uniform;, score=0.964 total time=   0.4s\n",
      "[CV 3/6] END n_neighbors=35, p=2, weights=uniform;, score=0.965 total time=   0.4s\n",
      "[CV 4/6] END n_neighbors=35, p=2, weights=uniform;, score=0.965 total time=   0.4s\n",
      "[CV 5/6] END n_neighbors=35, p=2, weights=uniform;, score=0.963 total time=   0.4s\n",
      "[CV 6/6] END n_neighbors=35, p=2, weights=uniform;, score=0.963 total time=   0.4s\n",
      "[CV 1/6] END n_neighbors=35, p=2, weights=distance;, score=0.964 total time=   0.2s\n",
      "[CV 2/6] END n_neighbors=35, p=2, weights=distance;, score=0.965 total time=   0.2s\n",
      "[CV 3/6] END n_neighbors=35, p=2, weights=distance;, score=0.965 total time=   0.2s\n",
      "[CV 4/6] END n_neighbors=35, p=2, weights=distance;, score=0.966 total time=   0.2s\n",
      "[CV 5/6] END n_neighbors=35, p=2, weights=distance;, score=0.964 total time=   0.2s\n",
      "[CV 6/6] END n_neighbors=35, p=2, weights=distance;, score=0.963 total time=   0.2s\n",
      "[CV 1/6] END n_neighbors=40, p=1, weights=uniform;, score=0.964 total time=   1.3s\n",
      "[CV 2/6] END n_neighbors=40, p=1, weights=uniform;, score=0.964 total time=   1.3s\n",
      "[CV 3/6] END n_neighbors=40, p=1, weights=uniform;, score=0.964 total time=   1.3s\n",
      "[CV 4/6] END n_neighbors=40, p=1, weights=uniform;, score=0.964 total time=   1.3s\n",
      "[CV 5/6] END n_neighbors=40, p=1, weights=uniform;, score=0.963 total time=   1.3s\n",
      "[CV 6/6] END n_neighbors=40, p=1, weights=uniform;, score=0.964 total time=   1.3s\n",
      "[CV 1/6] END n_neighbors=40, p=1, weights=distance;, score=0.965 total time=   1.1s\n",
      "[CV 2/6] END n_neighbors=40, p=1, weights=distance;, score=0.965 total time=   1.2s\n",
      "[CV 3/6] END n_neighbors=40, p=1, weights=distance;, score=0.965 total time=   1.1s\n",
      "[CV 4/6] END n_neighbors=40, p=1, weights=distance;, score=0.966 total time=   1.1s\n",
      "[CV 5/6] END n_neighbors=40, p=1, weights=distance;, score=0.964 total time=   1.2s\n",
      "[CV 6/6] END n_neighbors=40, p=1, weights=distance;, score=0.963 total time=   1.3s\n",
      "[CV 1/6] END n_neighbors=40, p=2, weights=uniform;, score=0.964 total time=   0.4s\n",
      "[CV 2/6] END n_neighbors=40, p=2, weights=uniform;, score=0.964 total time=   0.4s\n",
      "[CV 3/6] END n_neighbors=40, p=2, weights=uniform;, score=0.965 total time=   0.5s\n",
      "[CV 4/6] END n_neighbors=40, p=2, weights=uniform;, score=0.965 total time=   0.5s\n",
      "[CV 5/6] END n_neighbors=40, p=2, weights=uniform;, score=0.963 total time=   0.6s\n",
      "[CV 6/6] END n_neighbors=40, p=2, weights=uniform;, score=0.964 total time=   0.5s\n",
      "[CV 1/6] END n_neighbors=40, p=2, weights=distance;, score=0.965 total time=   0.3s\n",
      "[CV 2/6] END n_neighbors=40, p=2, weights=distance;, score=0.965 total time=   0.4s\n",
      "[CV 3/6] END n_neighbors=40, p=2, weights=distance;, score=0.965 total time=   0.5s\n",
      "[CV 4/6] END n_neighbors=40, p=2, weights=distance;, score=0.967 total time=   0.4s\n",
      "[CV 5/6] END n_neighbors=40, p=2, weights=distance;, score=0.964 total time=   0.5s\n",
      "[CV 6/6] END n_neighbors=40, p=2, weights=distance;, score=0.964 total time=   0.4s\n",
      "[CV 1/6] END n_neighbors=45, p=1, weights=uniform;, score=0.963 total time=   1.5s\n",
      "[CV 2/6] END n_neighbors=45, p=1, weights=uniform;, score=0.964 total time=   1.5s\n",
      "[CV 3/6] END n_neighbors=45, p=1, weights=uniform;, score=0.964 total time=   1.6s\n",
      "[CV 4/6] END n_neighbors=45, p=1, weights=uniform;, score=0.964 total time=   1.7s\n",
      "[CV 5/6] END n_neighbors=45, p=1, weights=uniform;, score=0.963 total time=   1.6s\n",
      "[CV 6/6] END n_neighbors=45, p=1, weights=uniform;, score=0.964 total time=   1.9s\n",
      "[CV 1/6] END n_neighbors=45, p=1, weights=distance;, score=0.964 total time=   1.5s\n",
      "[CV 2/6] END n_neighbors=45, p=1, weights=distance;, score=0.965 total time=   1.4s\n",
      "[CV 3/6] END n_neighbors=45, p=1, weights=distance;, score=0.965 total time=   1.3s\n",
      "[CV 4/6] END n_neighbors=45, p=1, weights=distance;, score=0.965 total time=   1.2s\n",
      "[CV 5/6] END n_neighbors=45, p=1, weights=distance;, score=0.964 total time=   1.2s\n",
      "[CV 6/6] END n_neighbors=45, p=1, weights=distance;, score=0.963 total time=   1.2s\n",
      "[CV 1/6] END n_neighbors=45, p=2, weights=uniform;, score=0.963 total time=   0.4s\n",
      "[CV 2/6] END n_neighbors=45, p=2, weights=uniform;, score=0.964 total time=   0.4s\n",
      "[CV 3/6] END n_neighbors=45, p=2, weights=uniform;, score=0.965 total time=   0.4s\n",
      "[CV 4/6] END n_neighbors=45, p=2, weights=uniform;, score=0.965 total time=   0.4s\n",
      "[CV 5/6] END n_neighbors=45, p=2, weights=uniform;, score=0.964 total time=   0.4s\n",
      "[CV 6/6] END n_neighbors=45, p=2, weights=uniform;, score=0.964 total time=   0.4s\n",
      "[CV 1/6] END n_neighbors=45, p=2, weights=distance;, score=0.965 total time=   0.3s\n",
      "[CV 2/6] END n_neighbors=45, p=2, weights=distance;, score=0.964 total time=   0.3s\n",
      "[CV 3/6] END n_neighbors=45, p=2, weights=distance;, score=0.965 total time=   0.3s\n",
      "[CV 4/6] END n_neighbors=45, p=2, weights=distance;, score=0.966 total time=   0.3s\n",
      "[CV 5/6] END n_neighbors=45, p=2, weights=distance;, score=0.964 total time=   0.3s\n",
      "[CV 6/6] END n_neighbors=45, p=2, weights=distance;, score=0.963 total time=   0.3s\n"
     ]
    },
    {
     "data": {
      "text/html": [
       "<style>#sk-container-id-5 {color: black;background-color: white;}#sk-container-id-5 pre{padding: 0;}#sk-container-id-5 div.sk-toggleable {background-color: white;}#sk-container-id-5 label.sk-toggleable__label {cursor: pointer;display: block;width: 100%;margin-bottom: 0;padding: 0.3em;box-sizing: border-box;text-align: center;}#sk-container-id-5 label.sk-toggleable__label-arrow:before {content: \"▸\";float: left;margin-right: 0.25em;color: #696969;}#sk-container-id-5 label.sk-toggleable__label-arrow:hover:before {color: black;}#sk-container-id-5 div.sk-estimator:hover label.sk-toggleable__label-arrow:before {color: black;}#sk-container-id-5 div.sk-toggleable__content {max-height: 0;max-width: 0;overflow: hidden;text-align: left;background-color: #f0f8ff;}#sk-container-id-5 div.sk-toggleable__content pre {margin: 0.2em;color: black;border-radius: 0.25em;background-color: #f0f8ff;}#sk-container-id-5 input.sk-toggleable__control:checked~div.sk-toggleable__content {max-height: 200px;max-width: 100%;overflow: auto;}#sk-container-id-5 input.sk-toggleable__control:checked~label.sk-toggleable__label-arrow:before {content: \"▾\";}#sk-container-id-5 div.sk-estimator input.sk-toggleable__control:checked~label.sk-toggleable__label {background-color: #d4ebff;}#sk-container-id-5 div.sk-label input.sk-toggleable__control:checked~label.sk-toggleable__label {background-color: #d4ebff;}#sk-container-id-5 input.sk-hidden--visually {border: 0;clip: rect(1px 1px 1px 1px);clip: rect(1px, 1px, 1px, 1px);height: 1px;margin: -1px;overflow: hidden;padding: 0;position: absolute;width: 1px;}#sk-container-id-5 div.sk-estimator {font-family: monospace;background-color: #f0f8ff;border: 1px dotted black;border-radius: 0.25em;box-sizing: border-box;margin-bottom: 0.5em;}#sk-container-id-5 div.sk-estimator:hover {background-color: #d4ebff;}#sk-container-id-5 div.sk-parallel-item::after {content: \"\";width: 100%;border-bottom: 1px solid gray;flex-grow: 1;}#sk-container-id-5 div.sk-label:hover label.sk-toggleable__label {background-color: #d4ebff;}#sk-container-id-5 div.sk-serial::before {content: \"\";position: absolute;border-left: 1px solid gray;box-sizing: border-box;top: 0;bottom: 0;left: 50%;z-index: 0;}#sk-container-id-5 div.sk-serial {display: flex;flex-direction: column;align-items: center;background-color: white;padding-right: 0.2em;padding-left: 0.2em;position: relative;}#sk-container-id-5 div.sk-item {position: relative;z-index: 1;}#sk-container-id-5 div.sk-parallel {display: flex;align-items: stretch;justify-content: center;background-color: white;position: relative;}#sk-container-id-5 div.sk-item::before, #sk-container-id-5 div.sk-parallel-item::before {content: \"\";position: absolute;border-left: 1px solid gray;box-sizing: border-box;top: 0;bottom: 0;left: 50%;z-index: -1;}#sk-container-id-5 div.sk-parallel-item {display: flex;flex-direction: column;z-index: 1;position: relative;background-color: white;}#sk-container-id-5 div.sk-parallel-item:first-child::after {align-self: flex-end;width: 50%;}#sk-container-id-5 div.sk-parallel-item:last-child::after {align-self: flex-start;width: 50%;}#sk-container-id-5 div.sk-parallel-item:only-child::after {width: 0;}#sk-container-id-5 div.sk-dashed-wrapped {border: 1px dashed gray;margin: 0 0.4em 0.5em 0.4em;box-sizing: border-box;padding-bottom: 0.4em;background-color: white;}#sk-container-id-5 div.sk-label label {font-family: monospace;font-weight: bold;display: inline-block;line-height: 1.2em;}#sk-container-id-5 div.sk-label-container {text-align: center;}#sk-container-id-5 div.sk-container {/* jupyter's `normalize.less` sets `[hidden] { display: none; }` but bootstrap.min.css set `[hidden] { display: none !important; }` so we also need the `!important` here to be able to override the default hidden behavior on the sphinx rendered scikit-learn.org. See: https://github.com/scikit-learn/scikit-learn/issues/21755 */display: inline-block !important;position: relative;}#sk-container-id-5 div.sk-text-repr-fallback {display: none;}</style><div id=\"sk-container-id-5\" class=\"sk-top-container\"><div class=\"sk-text-repr-fallback\"><pre>GridSearchCV(cv=6, estimator=KNeighborsClassifier(),\n",
       "             param_grid={&#x27;n_neighbors&#x27;: range(10, 50, 5), &#x27;p&#x27;: [1, 2],\n",
       "                         &#x27;weights&#x27;: [&#x27;uniform&#x27;, &#x27;distance&#x27;]},\n",
       "             verbose=4)</pre><b>In a Jupyter environment, please rerun this cell to show the HTML representation or trust the notebook. <br />On GitHub, the HTML representation is unable to render, please try loading this page with nbviewer.org.</b></div><div class=\"sk-container\" hidden><div class=\"sk-item sk-dashed-wrapped\"><div class=\"sk-label-container\"><div class=\"sk-label sk-toggleable\"><input class=\"sk-toggleable__control sk-hidden--visually\" id=\"sk-estimator-id-5\" type=\"checkbox\" ><label for=\"sk-estimator-id-5\" class=\"sk-toggleable__label sk-toggleable__label-arrow\">GridSearchCV</label><div class=\"sk-toggleable__content\"><pre>GridSearchCV(cv=6, estimator=KNeighborsClassifier(),\n",
       "             param_grid={&#x27;n_neighbors&#x27;: range(10, 50, 5), &#x27;p&#x27;: [1, 2],\n",
       "                         &#x27;weights&#x27;: [&#x27;uniform&#x27;, &#x27;distance&#x27;]},\n",
       "             verbose=4)</pre></div></div></div><div class=\"sk-parallel\"><div class=\"sk-parallel-item\"><div class=\"sk-item\"><div class=\"sk-label-container\"><div class=\"sk-label sk-toggleable\"><input class=\"sk-toggleable__control sk-hidden--visually\" id=\"sk-estimator-id-6\" type=\"checkbox\" ><label for=\"sk-estimator-id-6\" class=\"sk-toggleable__label sk-toggleable__label-arrow\">estimator: KNeighborsClassifier</label><div class=\"sk-toggleable__content\"><pre>KNeighborsClassifier()</pre></div></div></div><div class=\"sk-serial\"><div class=\"sk-item\"><div class=\"sk-estimator sk-toggleable\"><input class=\"sk-toggleable__control sk-hidden--visually\" id=\"sk-estimator-id-7\" type=\"checkbox\" ><label for=\"sk-estimator-id-7\" class=\"sk-toggleable__label sk-toggleable__label-arrow\">KNeighborsClassifier</label><div class=\"sk-toggleable__content\"><pre>KNeighborsClassifier()</pre></div></div></div></div></div></div></div></div></div></div>"
      ],
      "text/plain": [
       "GridSearchCV(cv=6, estimator=KNeighborsClassifier(),\n",
       "             param_grid={'n_neighbors': range(10, 50, 5), 'p': [1, 2],\n",
       "                         'weights': ['uniform', 'distance']},\n",
       "             verbose=4)"
      ]
     },
     "execution_count": 45,
     "metadata": {},
     "output_type": "execute_result"
    }
   ],
   "source": [
    "estimator.fit(X_train, Y_train)"
   ]
  },
  {
   "cell_type": "code",
   "execution_count": 46,
   "id": "dcb21cb9",
   "metadata": {},
   "outputs": [
    {
     "data": {
      "text/plain": [
       "{'n_neighbors': 20, 'p': 2, 'weights': 'distance'}"
      ]
     },
     "execution_count": 46,
     "metadata": {},
     "output_type": "execute_result"
    }
   ],
   "source": [
    "estimator.best_params_"
   ]
  },
  {
   "cell_type": "code",
   "execution_count": 47,
   "id": "2f69c2a9",
   "metadata": {},
   "outputs": [
    {
     "data": {
      "text/plain": [
       "0.9647790975980755"
      ]
     },
     "execution_count": 47,
     "metadata": {},
     "output_type": "execute_result"
    }
   ],
   "source": [
    "estimator.best_score_"
   ]
  },
  {
   "cell_type": "code",
   "execution_count": 48,
   "id": "e724743f",
   "metadata": {},
   "outputs": [
    {
     "name": "stdout",
     "output_type": "stream",
     "text": [
      "\u001b[32mClassification report for model KNeighborsClassifier on training data\u001b[0m\n",
      "---------------------------------------------------------------------------------\n",
      "              precision    recall  f1-score   support\n",
      "\n",
      "           0       1.00      1.00      1.00     38169\n",
      "           1       1.00      0.98      0.99      1495\n",
      "\n",
      "    accuracy                           1.00     39664\n",
      "   macro avg       1.00      0.99      1.00     39664\n",
      "weighted avg       1.00      1.00      1.00     39664\n",
      "\n",
      "---------------------------------------------------------------------------------\n",
      "\u001b[32mConfusion matrix for model KNeighborsClassifier on training data \u001b[0m\n",
      "---------------------------------------------------------------------------------\n",
      "   Nije uhapšen  Uhapšen\n",
      "0         38169        0\n",
      "1            23     1472\n",
      "---------------------------------------------------------------------------------\n"
     ]
    }
   ],
   "source": [
    "report(estimator.best_estimator_, X_train, Y_train)"
   ]
  },
  {
   "cell_type": "code",
   "execution_count": 49,
   "id": "020ba52e",
   "metadata": {},
   "outputs": [
    {
     "name": "stdout",
     "output_type": "stream",
     "text": [
      "\u001b[32mClassification report for model KNeighborsClassifier on test data\u001b[0m\n",
      "---------------------------------------------------------------------------------\n",
      "              precision    recall  f1-score   support\n",
      "\n",
      "           0       0.97      1.00      0.98      9542\n",
      "           1       0.64      0.15      0.24       374\n",
      "\n",
      "    accuracy                           0.96      9916\n",
      "   macro avg       0.81      0.57      0.61      9916\n",
      "weighted avg       0.96      0.96      0.95      9916\n",
      "\n",
      "---------------------------------------------------------------------------------\n",
      "\u001b[32mConfusion matrix for model KNeighborsClassifier on test data \u001b[0m\n",
      "---------------------------------------------------------------------------------\n",
      "   Nije uhapšen  Uhapšen\n",
      "0          9511       31\n",
      "1           318       56\n",
      "---------------------------------------------------------------------------------\n"
     ]
    }
   ],
   "source": [
    "report(estimator.best_estimator_, X_test, Y_test, \"test\")"
   ]
  },
  {
   "cell_type": "markdown",
   "id": "4ede1ad7",
   "metadata": {},
   "source": [
    "Takođe, možemo detaljnije pogledati i rezultate unakrsne validacije."
   ]
  },
  {
   "cell_type": "code",
   "execution_count": 50,
   "id": "5b3b0e83",
   "metadata": {},
   "outputs": [
    {
     "data": {
      "text/plain": [
       "{'mean_fit_time': array([0.00757456, 0.00714783, 0.00634034, 0.0088098 , 0.0057075 ,\n",
       "        0.00734329, 0.00605889, 0.00750641, 0.00620345, 0.00702775,\n",
       "        0.00619558, 0.0070043 , 0.00598443, 0.00718017, 0.00712295,\n",
       "        0.00834827, 0.00615056, 0.00736415, 0.00648232, 0.00800578,\n",
       "        0.00617504, 0.0075471 , 0.00636661, 0.00755235, 0.00606298,\n",
       "        0.00685644, 0.00689383, 0.00838172, 0.00690476, 0.00751726,\n",
       "        0.00618215, 0.00784945]),\n",
       " 'std_fit_time': array([0.00170385, 0.00068574, 0.00046217, 0.00210875, 0.00112143,\n",
       "        0.00112102, 0.00057126, 0.00077996, 0.00090321, 0.00059145,\n",
       "        0.00035662, 0.0005575 , 0.00099731, 0.00063156, 0.00201046,\n",
       "        0.00275669, 0.00089506, 0.00077072, 0.00076176, 0.00130824,\n",
       "        0.00089227, 0.0014718 , 0.00093776, 0.00070414, 0.00053444,\n",
       "        0.00090366, 0.00146884, 0.00127613, 0.00095728, 0.00049077,\n",
       "        0.00036376, 0.00090904]),\n",
       " 'mean_score_time': array([1.39143554, 1.17182414, 0.41475407, 0.27713573, 1.32817801,\n",
       "        1.18052824, 0.44018789, 0.29321162, 1.34011968, 1.22513402,\n",
       "        0.48101087, 0.30706203, 1.36731033, 1.21203796, 0.46348119,\n",
       "        0.31718918, 1.41085625, 1.28729856, 0.47989174, 0.32772648,\n",
       "        1.3742493 , 1.22900883, 0.48077921, 0.33603899, 1.38795392,\n",
       "        1.28086364, 0.58442903, 0.51880662, 1.72844589, 1.37711855,\n",
       "        0.5062503 , 0.36596978]),\n",
       " 'std_score_time': array([0.05951847, 0.01363489, 0.00297867, 0.00677311, 0.0132088 ,\n",
       "        0.014928  , 0.00386494, 0.00334067, 0.00985336, 0.03677417,\n",
       "        0.05353375, 0.00675029, 0.02731624, 0.01419389, 0.00353356,\n",
       "        0.00521829, 0.07034221, 0.072021  , 0.01810229, 0.00385495,\n",
       "        0.00766854, 0.01004831, 0.00383757, 0.00443855, 0.01563861,\n",
       "        0.0695461 , 0.05785056, 0.05349237, 0.14032094, 0.11994748,\n",
       "        0.0042147 , 0.00683425]),\n",
       " 'param_n_neighbors': masked_array(data=[10, 10, 10, 10, 15, 15, 15, 15, 20, 20, 20, 20, 25, 25,\n",
       "                    25, 25, 30, 30, 30, 30, 35, 35, 35, 35, 40, 40, 40, 40,\n",
       "                    45, 45, 45, 45],\n",
       "              mask=[False, False, False, False, False, False, False, False,\n",
       "                    False, False, False, False, False, False, False, False,\n",
       "                    False, False, False, False, False, False, False, False,\n",
       "                    False, False, False, False, False, False, False, False],\n",
       "        fill_value='?',\n",
       "             dtype=object),\n",
       " 'param_p': masked_array(data=[1, 1, 2, 2, 1, 1, 2, 2, 1, 1, 2, 2, 1, 1, 2, 2, 1, 1,\n",
       "                    2, 2, 1, 1, 2, 2, 1, 1, 2, 2, 1, 1, 2, 2],\n",
       "              mask=[False, False, False, False, False, False, False, False,\n",
       "                    False, False, False, False, False, False, False, False,\n",
       "                    False, False, False, False, False, False, False, False,\n",
       "                    False, False, False, False, False, False, False, False],\n",
       "        fill_value='?',\n",
       "             dtype=object),\n",
       " 'param_weights': masked_array(data=['uniform', 'distance', 'uniform', 'distance',\n",
       "                    'uniform', 'distance', 'uniform', 'distance',\n",
       "                    'uniform', 'distance', 'uniform', 'distance',\n",
       "                    'uniform', 'distance', 'uniform', 'distance',\n",
       "                    'uniform', 'distance', 'uniform', 'distance',\n",
       "                    'uniform', 'distance', 'uniform', 'distance',\n",
       "                    'uniform', 'distance', 'uniform', 'distance',\n",
       "                    'uniform', 'distance', 'uniform', 'distance'],\n",
       "              mask=[False, False, False, False, False, False, False, False,\n",
       "                    False, False, False, False, False, False, False, False,\n",
       "                    False, False, False, False, False, False, False, False,\n",
       "                    False, False, False, False, False, False, False, False],\n",
       "        fill_value='?',\n",
       "             dtype=object),\n",
       " 'params': [{'n_neighbors': 10, 'p': 1, 'weights': 'uniform'},\n",
       "  {'n_neighbors': 10, 'p': 1, 'weights': 'distance'},\n",
       "  {'n_neighbors': 10, 'p': 2, 'weights': 'uniform'},\n",
       "  {'n_neighbors': 10, 'p': 2, 'weights': 'distance'},\n",
       "  {'n_neighbors': 15, 'p': 1, 'weights': 'uniform'},\n",
       "  {'n_neighbors': 15, 'p': 1, 'weights': 'distance'},\n",
       "  {'n_neighbors': 15, 'p': 2, 'weights': 'uniform'},\n",
       "  {'n_neighbors': 15, 'p': 2, 'weights': 'distance'},\n",
       "  {'n_neighbors': 20, 'p': 1, 'weights': 'uniform'},\n",
       "  {'n_neighbors': 20, 'p': 1, 'weights': 'distance'},\n",
       "  {'n_neighbors': 20, 'p': 2, 'weights': 'uniform'},\n",
       "  {'n_neighbors': 20, 'p': 2, 'weights': 'distance'},\n",
       "  {'n_neighbors': 25, 'p': 1, 'weights': 'uniform'},\n",
       "  {'n_neighbors': 25, 'p': 1, 'weights': 'distance'},\n",
       "  {'n_neighbors': 25, 'p': 2, 'weights': 'uniform'},\n",
       "  {'n_neighbors': 25, 'p': 2, 'weights': 'distance'},\n",
       "  {'n_neighbors': 30, 'p': 1, 'weights': 'uniform'},\n",
       "  {'n_neighbors': 30, 'p': 1, 'weights': 'distance'},\n",
       "  {'n_neighbors': 30, 'p': 2, 'weights': 'uniform'},\n",
       "  {'n_neighbors': 30, 'p': 2, 'weights': 'distance'},\n",
       "  {'n_neighbors': 35, 'p': 1, 'weights': 'uniform'},\n",
       "  {'n_neighbors': 35, 'p': 1, 'weights': 'distance'},\n",
       "  {'n_neighbors': 35, 'p': 2, 'weights': 'uniform'},\n",
       "  {'n_neighbors': 35, 'p': 2, 'weights': 'distance'},\n",
       "  {'n_neighbors': 40, 'p': 1, 'weights': 'uniform'},\n",
       "  {'n_neighbors': 40, 'p': 1, 'weights': 'distance'},\n",
       "  {'n_neighbors': 40, 'p': 2, 'weights': 'uniform'},\n",
       "  {'n_neighbors': 40, 'p': 2, 'weights': 'distance'},\n",
       "  {'n_neighbors': 45, 'p': 1, 'weights': 'uniform'},\n",
       "  {'n_neighbors': 45, 'p': 1, 'weights': 'distance'},\n",
       "  {'n_neighbors': 45, 'p': 2, 'weights': 'uniform'},\n",
       "  {'n_neighbors': 45, 'p': 2, 'weights': 'distance'}],\n",
       " 'split0_test_score': array([0.96399939, 0.96460445, 0.96475571, 0.96430192, 0.96460445,\n",
       "        0.96445318, 0.96430192, 0.96490697, 0.96445318, 0.96475571,\n",
       "        0.96384813, 0.96490697, 0.96430192, 0.96475571, 0.96460445,\n",
       "        0.96445318, 0.96384813, 0.96505824, 0.96475571, 0.96475571,\n",
       "        0.96415066, 0.96490697, 0.96384813, 0.96445318, 0.96384813,\n",
       "        0.96505824, 0.96369687, 0.96460445, 0.96339434, 0.96445318,\n",
       "        0.96339434, 0.96490697]),\n",
       " 'split1_test_score': array([0.96536076, 0.96399939, 0.96460445, 0.96399939, 0.96490697,\n",
       "        0.9652095 , 0.96460445, 0.96460445, 0.96536076, 0.96490697,\n",
       "        0.96505824, 0.96475571, 0.96536076, 0.96475571, 0.96505824,\n",
       "        0.96505824, 0.96445318, 0.96505824, 0.96475571, 0.96490697,\n",
       "        0.96430192, 0.96505824, 0.96415066, 0.96490697, 0.96445318,\n",
       "        0.96505824, 0.96445318, 0.96475571, 0.96430192, 0.96475571,\n",
       "        0.96445318, 0.96445318]),\n",
       " 'split2_test_score': array([0.96445318, 0.96460445, 0.96415066, 0.96505824, 0.96566329,\n",
       "        0.96505824, 0.96430192, 0.96490697, 0.96505824, 0.96460445,\n",
       "        0.96505824, 0.9652095 , 0.96415066, 0.96460445, 0.96490697,\n",
       "        0.96536076, 0.96430192, 0.96475571, 0.96460445, 0.96536076,\n",
       "        0.96490697, 0.96490697, 0.96460445, 0.96490697, 0.96430192,\n",
       "        0.96490697, 0.96460445, 0.96475571, 0.96445318, 0.96490697,\n",
       "        0.96505824, 0.9652095 ]),\n",
       " 'split3_test_score': array([0.96581455, 0.96581455, 0.96566329, 0.96581455, 0.96596581,\n",
       "        0.96566329, 0.96626834, 0.96596581, 0.96475571, 0.96596581,\n",
       "        0.96551203, 0.96611708, 0.96566329, 0.96536076, 0.96551203,\n",
       "        0.96566329, 0.96460445, 0.96581455, 0.9652095 , 0.96581455,\n",
       "        0.96460445, 0.96551203, 0.96460445, 0.96611708, 0.96445318,\n",
       "        0.96551203, 0.96475571, 0.96672213, 0.96415066, 0.96490697,\n",
       "        0.96490697, 0.96611708]),\n",
       " 'split4_test_score': array([0.9623298 , 0.96172466, 0.96384266, 0.9623298 , 0.96308623,\n",
       "        0.96384266, 0.9633888 , 0.96384266, 0.96399395, 0.96399395,\n",
       "        0.96354009, 0.96399395, 0.96354009, 0.96399395, 0.96293495,\n",
       "        0.96399395, 0.96308623, 0.96399395, 0.96278366, 0.96323752,\n",
       "        0.96278366, 0.96369138, 0.96263238, 0.96354009, 0.96293495,\n",
       "        0.96369138, 0.96308623, 0.96384266, 0.9633888 , 0.96369138,\n",
       "        0.96354009, 0.96399395]),\n",
       " 'split5_test_score': array([0.9633888 , 0.96278366, 0.96384266, 0.96278366, 0.96354009,\n",
       "        0.96308623, 0.96399395, 0.96323752, 0.96248109, 0.96263238,\n",
       "        0.96308623, 0.96369138, 0.96308623, 0.96308623, 0.96354009,\n",
       "        0.96369138, 0.96308623, 0.96323752, 0.96248109, 0.96308623,\n",
       "        0.9633888 , 0.96323752, 0.96293495, 0.96308623, 0.96384266,\n",
       "        0.96323752, 0.96354009, 0.96354009, 0.96414523, 0.9633888 ,\n",
       "        0.96369138, 0.96308623]),\n",
       " 'mean_test_score': array([0.96422442, 0.96392186, 0.96447657, 0.96404793, 0.96462781,\n",
       "        0.96455218, 0.96447656, 0.9645774 , 0.96435049, 0.96447654,\n",
       "        0.96435049, 0.9647791 , 0.96435049, 0.96442614, 0.96442612,\n",
       "        0.96470347, 0.96389669, 0.96465303, 0.96409835, 0.96452696,\n",
       "        0.96402274, 0.96455218, 0.96379583, 0.96450176, 0.96397234,\n",
       "        0.96457739, 0.96402276, 0.96470346, 0.96397236, 0.9643505 ,\n",
       "        0.96417403, 0.96462782]),\n",
       " 'std_test_score': array([0.0011698 , 0.00133187, 0.0006341 , 0.00120823, 0.00104088,\n",
       "        0.00087416, 0.00088543, 0.00086417, 0.00094146, 0.00101089,\n",
       "        0.00089985, 0.00079498, 0.00091665, 0.00071934, 0.00089911,\n",
       "        0.00071526, 0.00061791, 0.00082927, 0.00105664, 0.00102374,\n",
       "        0.00072477, 0.00080607, 0.00076715, 0.00098898, 0.00052907,\n",
       "        0.00081903, 0.00061605, 0.00101527, 0.0004235 , 0.00059908,\n",
       "        0.00066329, 0.00095245]),\n",
       " 'rank_test_score': array([22, 30, 13, 25,  6,  9, 14,  7, 21, 15, 19,  1, 19, 16, 17,  2, 31,\n",
       "         4, 24, 11, 27,  9, 32, 12, 29,  8, 26,  3, 28, 18, 23,  5])}"
      ]
     },
     "execution_count": 50,
     "metadata": {},
     "output_type": "execute_result"
    }
   ],
   "source": [
    "estimator.cv_results_"
   ]
  },
  {
   "cell_type": "markdown",
   "id": "bd5d88b6",
   "metadata": {},
   "source": [
    "## Slučajne šume"
   ]
  },
  {
   "cell_type": "code",
   "execution_count": 51,
   "id": "e8d6aca4",
   "metadata": {},
   "outputs": [
    {
     "name": "stdout",
     "output_type": "stream",
     "text": [
      "\u001b[32mClassification report for model BaggingClassifier on training data\u001b[0m\n",
      "---------------------------------------------------------------------------------\n",
      "              precision    recall  f1-score   support\n",
      "\n",
      "           0       0.97      1.00      0.98     38169\n",
      "           1       0.75      0.32      0.45      1495\n",
      "\n",
      "    accuracy                           0.97     39664\n",
      "   macro avg       0.86      0.66      0.72     39664\n",
      "weighted avg       0.97      0.97      0.96     39664\n",
      "\n",
      "---------------------------------------------------------------------------------\n",
      "\u001b[32mConfusion matrix for model BaggingClassifier on training data \u001b[0m\n",
      "---------------------------------------------------------------------------------\n",
      "   Nije uhapšen  Uhapšen\n",
      "0         38008      161\n",
      "1          1017      478\n",
      "---------------------------------------------------------------------------------\n",
      "\u001b[32mClassification report for model BaggingClassifier on test data\u001b[0m\n",
      "---------------------------------------------------------------------------------\n",
      "              precision    recall  f1-score   support\n",
      "\n",
      "           0       0.97      0.99      0.98      9542\n",
      "           1       0.54      0.21      0.31       374\n",
      "\n",
      "    accuracy                           0.96      9916\n",
      "   macro avg       0.75      0.60      0.64      9916\n",
      "weighted avg       0.95      0.96      0.96      9916\n",
      "\n",
      "---------------------------------------------------------------------------------\n",
      "\u001b[32mConfusion matrix for model BaggingClassifier on test data \u001b[0m\n",
      "---------------------------------------------------------------------------------\n",
      "   Nije uhapšen  Uhapšen\n",
      "0          9473       69\n",
      "1           294       80\n",
      "---------------------------------------------------------------------------------\n"
     ]
    }
   ],
   "source": [
    "baggingKnn = BaggingClassifier(estimator=KNeighborsClassifier(), n_estimators=20)\n",
    "baggingKnn.fit(X_train, Y_train)\n",
    "\n",
    "report(baggingKnn, X_train, Y_train)\n",
    "report(baggingKnn, X_test, Y_test, \"test\")"
   ]
  },
  {
   "cell_type": "markdown",
   "id": "619495cf",
   "metadata": {},
   "source": [
    "# Poređenje dobijenih modela"
   ]
  },
  {
   "cell_type": "markdown",
   "id": "0ae60366",
   "metadata": {},
   "source": [
    "Napravili smo više modela, sada je pitanje koji od njih najbolje rešava problem klasifikacije. Naravno, ne možemo zaključiti samo na osnovu preciznosti modela. Za poređenje koristimo ROC krivu."
   ]
  },
  {
   "cell_type": "code",
   "execution_count": 52,
   "id": "f0a70e72",
   "metadata": {},
   "outputs": [
    {
     "data": {
      "image/png": "[encoded data removed]",
      "text/plain": [
       "<Figure size 640x480 with 1 Axes>"
      ]
     },
     "metadata": {},
     "output_type": "display_data"
    }
   ],
   "source": [
    "from sklearn.metrics import roc_curve, roc_auc_score\n",
    "models = [knn, estimator.best_estimator_, baggingKnn]\n",
    "model_names = ['KNN', 'GridSearchCV', 'Ensemble']\n",
    "for model, model_name in zip(models, model_names):\n",
    "    y_pred = model.predict(X_test)\n",
    "    fpr,tpr, _ = roc_curve(Y_test, y_pred)\n",
    "    auc = roc_auc_score(Y_test, y_pred)\n",
    "    lab = model_name + \"(auc: \" + str(round(auc, 2)) + \")\"\n",
    "    plt.plot(fpr, tpr, label=lab)\n",
    "\n",
    "plt.plot([0, 1], [0, 1], label='Random (auc: 0.5)', color='red')\n",
    "plt.title(\"Poređenje modela\")\n",
    "plt.legend()\n",
    "plt.show()"
   ]
  },
  {
   "cell_type": "markdown",
   "id": "e8590de3",
   "metadata": {},
   "source": [
    "Biramo model sa najvećom AUC vrednošću - KNN."
   ]
  }
 ],
 "metadata": {
  "kernelspec": {
   "display_name": "Python 3 (ipykernel)",
   "language": "python",
   "name": "python3"
  },
  "language_info": {
   "codemirror_mode": {
    "name": "ipython",
    "version": 3
   },
   "file_extension": ".py",
   "mimetype": "text/x-python",
   "name": "python",
   "nbconvert_exporter": "python",
   "pygments_lexer": "ipython3",
   "version": "3.11.0"
  }
 },
 "nbformat": 4,
 "nbformat_minor": 5
}
